{
  "nbformat": 4,
  "nbformat_minor": 0,
  "metadata": {
    "colab": {
      "provenance": []
    },
    "kernelspec": {
      "name": "python3",
      "display_name": "Python 3"
    },
    "language_info": {
      "name": "python"
    }
  },
  "cells": [
    {
      "cell_type": "code",
      "execution_count": 1,
      "metadata": {
        "id": "nFQLKQ6hfXch"
      },
      "outputs": [],
      "source": [
        "#Instalando o SDK do Google\n",
        "!pip install -q -U google-generativeai"
      ]
    },
    {
      "cell_type": "code",
      "execution_count": 2,
      "metadata": {
        "id": "IthzwfnAfcsi"
      },
      "outputs": [],
      "source": [
        "#Configurações iniciais\n",
        "import google.generativeai as genai\n",
        "\n",
        "GOOGLE_API_KEY=\"\"\n",
        "genai.configure(api_key=GOOGLE_API_KEY)"
      ]
    },
    {
      "cell_type": "code",
      "execution_count": 3,
      "metadata": {
        "colab": {
          "base_uri": "https://localhost:8080/",
          "height": 138
        },
        "id": "iD3ihugymWBt",
        "outputId": "07b8266d-6be7-441e-ed1e-9c9e1033ff2f"
      },
      "outputs": [
        {
          "output_type": "stream",
          "name": "stdout",
          "text": [
            "models/gemini-1.0-pro\n",
            "models/gemini-1.0-pro-001\n",
            "models/gemini-1.0-pro-latest\n",
            "models/gemini-1.0-pro-vision-latest\n",
            "models/gemini-1.5-pro-latest\n",
            "models/gemini-pro\n",
            "models/gemini-pro-vision\n"
          ]
        }
      ],
      "source": [
        "#Listando os modelos disponíveis\n",
        "\n",
        "for m in genai.list_models():\n",
        "\n",
        "# Substitua 'YOUR_API_KEY' pela sua chave de API do Google\n",
        "  if 'generateContent' in m.supported_generation_methods:\n",
        "    print(m.name)"
      ]
    },
    {
      "cell_type": "code",
      "execution_count": 4,
      "metadata": {
        "id": "O1ochaeyDn_o"
      },
      "outputs": [],
      "source": [
        "# Configurações de geração\n",
        "generation_config = {\n",
        "  \"candidate_count\": 1, # Número de candidatos a serem gerados\n",
        "  \"temperature\": 0.5,  # Controla a criatividade (0.0 - mais determinístico, 1.0 - mais criativo)\n",
        "}\n"
      ]
    },
    {
      "cell_type": "code",
      "execution_count": 5,
      "metadata": {
        "id": "jwBv7DofDofw"
      },
      "outputs": [],
      "source": [
        "# Configurações de segurança - atualmente desabilitadas para demonstração\n",
        "safety_settings={\n",
        "    'HATE': 'BLOCK_NONE',\n",
        "    'HARASSMENT': 'BLOCK_NONE',\n",
        "    'SEXUAL' : 'BLOCK_NONE',\n",
        "    'DANGEROUS' : 'BLOCK_NONE'\n",
        "    }"
      ]
    },
    {
      "cell_type": "code",
      "execution_count": 6,
      "metadata": {
        "id": "NIiSs1R5mVJE"
      },
      "outputs": [],
      "source": [
        "# Inicializando o modelo Gemini Pro\n",
        "model = genai.GenerativeModel(model_name='gemini-1.0-pro',\n",
        "                                  generation_config=generation_config,\n",
        "                                  safety_settings=safety_settings,)"
      ]
    },
    {
      "cell_type": "code",
      "execution_count": 7,
      "metadata": {
        "colab": {
          "base_uri": "https://localhost:8080/",
          "height": 35
        },
        "id": "vrRjhT2rlrU_",
        "outputId": "df46146d-4950-4202-9129-7a9f944eaa6b"
      },
      "outputs": [
        {
          "output_type": "execute_result",
          "data": {
            "text/plain": [
              "'Google'"
            ],
            "application/vnd.google.colaboratory.intrinsic+json": {
              "type": "string"
            }
          },
          "metadata": {},
          "execution_count": 7
        }
      ],
      "source": [
        "# Exemplo de geração de texto simples\n",
        "response = model.generate_content(\"Que empresa criou o modelo de IA Gemini?\")\n",
        "response.text"
      ]
    },
    {
      "cell_type": "code",
      "execution_count": 8,
      "metadata": {
        "colab": {
          "base_uri": "https://localhost:8080/",
          "height": 644
        },
        "id": "KpaQ6hm5f2_J",
        "outputId": "1a8016e8-5788-4fe4-a381-0241bfca9d67"
      },
      "outputs": [
        {
          "name": "stdout",
          "output_type": "stream",
          "text": [
            "Esperando prompt: o que é python\n",
            "Resposta: Python é uma linguagem de programação de alto nível, interpretada, orientada a objetos e de propósito geral. É conhecida por sua sintaxe simples e fácil de ler, tornando-a uma linguagem popular para iniciantes e experientes.\n",
            "\n",
            "**Características principais do Python:**\n",
            "\n",
            "* **Interpretada:** O código Python é executado linha por linha por um interpretador, em vez de ser compilado em um arquivo executável.\n",
            "* **Orientada a objetos:** Python suporta programação orientada a objetos, permitindo que você crie classes e objetos para representar dados e comportamento.\n",
            "* **Tipada dinamicamente:** Python determina o tipo de uma variável durante a execução, em vez de durante a compilação.\n",
            "* **Multiparadigma:** Python suporta vários paradigmas de programação, incluindo programação orientada a objetos, programação funcional e programação procedural.\n",
            "* **Extensível:** Python pode ser estendido por meio de módulos e bibliotecas, que fornecem uma ampla gama de funcionalidades.\n",
            "* **Portátil:** O código Python pode ser executado em vários sistemas operacionais, incluindo Windows, macOS e Linux.\n",
            "\n",
            "**Aplicações do Python:**\n",
            "\n",
            "Python é usado em uma ampla gama de aplicações, incluindo:\n",
            "\n",
            "* **Desenvolvimento web:** Django, Flask\n",
            "* **Ciência de dados:** NumPy, Pandas, Scikit-learn\n",
            "* **Inteligência artificial:** TensorFlow, Keras\n",
            "* **Automação:** Selenium, Requests\n",
            "* **Análise de dados:** Matplotlib, Seaborn\n",
            "* **Desenvolvimento de jogos:** PyGame\n",
            "* **Aprendizado de máquina:** scikit-learn, TensorFlow\n",
            "* **Processamento de linguagem natural:** NLTK, spaCy\n",
            "\n",
            "**Vantagens do Python:**\n",
            "\n",
            "* **Fácil de aprender:** Python tem uma sintaxe simples e fácil de ler, tornando-o adequado para iniciantes.\n",
            "* **Versátil:** Python pode ser usado para uma ampla gama de aplicações, desde desenvolvimento web até ciência de dados.\n",
            "* **Comunidade grande:** Python tem uma grande comunidade de usuários e desenvolvedores, fornecendo amplo suporte e recursos.\n",
            "* **Bibliotecas abrangentes:** Python oferece uma vasta coleção de bibliotecas que fornecem funcionalidades para várias tarefas.\n",
            "* **Portátil:** O código Python pode ser executado em vários sistemas operacionais, tornando-o adequado para desenvolvimento multiplataforma. \n",
            "\n",
            "\n",
            "Esperando prompt: fim\n"
          ]
        }
      ],
      "source": [
        "# Iniciando um chat interativo\n",
        "chat = model.start_chat(history=[])\n",
        "\n",
        "prompt = input('Esperando prompt: ')\n",
        "\n",
        "# Loop do chat\n",
        "\n",
        "while prompt != \"fim\":\n",
        "  response = chat.send_message(prompt)\n",
        "  print(\"Resposta:\", response.text, '\\n\\n')\n",
        "  prompt = input('Esperando prompt: ')"
      ]
    },
    {
      "cell_type": "code",
      "execution_count": 10,
      "metadata": {
        "id": "XLAniTTDhHNW",
        "colab": {
          "base_uri": "https://localhost:8080/"
        },
        "outputId": "2dad3254-4ee9-4cca-d761-11c803d83362"
      },
      "outputs": [
        {
          "output_type": "execute_result",
          "data": {
            "text/plain": [
              "ChatSession(\n",
              "    model=genai.GenerativeModel(\n",
              "        model_name='models/gemini-1.0-pro',\n",
              "        generation_config={'candidate_count': 1, 'temperature': 0.5},\n",
              "        safety_settings={<HarmCategory.HARM_CATEGORY_HATE_SPEECH: 8>: <HarmBlockThreshold.BLOCK_NONE: 4>, <HarmCategory.HARM_CATEGORY_HARASSMENT: 7>: <HarmBlockThreshold.BLOCK_NONE: 4>, <HarmCategory.HARM_CATEGORY_SEXUALLY_EXPLICIT: 9>: <HarmBlockThreshold.BLOCK_NONE: 4>, <HarmCategory.HARM_CATEGORY_DANGEROUS_CONTENT: 10>: <HarmBlockThreshold.BLOCK_NONE: 4>},\n",
              "        tools=None,\n",
              "        system_instruction=None,\n",
              "    ),\n",
              "    history=[glm.Content({'parts': [{'text': 'o que é python'}], 'role': 'user'}), glm.Content({'parts': [{'text': 'Python é uma...tiplataforma.'}], 'role': 'model'})]\n",
              ")"
            ]
          },
          "metadata": {},
          "execution_count": 10
        }
      ],
      "source": [
        "chat"
      ]
    },
    {
      "cell_type": "code",
      "execution_count": 12,
      "metadata": {
        "id": "sd8mvW9KghTf",
        "colab": {
          "base_uri": "https://localhost:8080/"
        },
        "outputId": "d4c0daa7-3016-4cf8-cc53-146d6be9c210"
      },
      "outputs": [
        {
          "output_type": "execute_result",
          "data": {
            "text/plain": [
              "[parts {\n",
              "   text: \"o que \\303\\251 python\"\n",
              " }\n",
              " role: \"user\",\n",
              " parts {\n",
              "   text: \"Python \\303\\251 uma linguagem de programa\\303\\247\\303\\243o de alto n\\303\\255vel, interpretada, orientada a objetos e de prop\\303\\263sito geral. \\303\\211 conhecida por sua sintaxe simples e f\\303\\241cil de ler, tornando-a uma linguagem popular para iniciantes e experientes.\\n\\n**Caracter\\303\\255sticas principais do Python:**\\n\\n* **Interpretada:** O c\\303\\263digo Python \\303\\251 executado linha por linha por um interpretador, em vez de ser compilado em um arquivo execut\\303\\241vel.\\n* **Orientada a objetos:** Python suporta programa\\303\\247\\303\\243o orientada a objetos, permitindo que voc\\303\\252 crie classes e objetos para representar dados e comportamento.\\n* **Tipada dinamicamente:** Python determina o tipo de uma vari\\303\\241vel durante a execu\\303\\247\\303\\243o, em vez de durante a compila\\303\\247\\303\\243o.\\n* **Multiparadigma:** Python suporta v\\303\\241rios paradigmas de programa\\303\\247\\303\\243o, incluindo programa\\303\\247\\303\\243o orientada a objetos, programa\\303\\247\\303\\243o funcional e programa\\303\\247\\303\\243o procedural.\\n* **Extens\\303\\255vel:** Python pode ser estendido por meio de m\\303\\263dulos e bibliotecas, que fornecem uma ampla gama de funcionalidades.\\n* **Port\\303\\241til:** O c\\303\\263digo Python pode ser executado em v\\303\\241rios sistemas operacionais, incluindo Windows, macOS e Linux.\\n\\n**Aplica\\303\\247\\303\\265es do Python:**\\n\\nPython \\303\\251 usado em uma ampla gama de aplica\\303\\247\\303\\265es, incluindo:\\n\\n* **Desenvolvimento web:** Django, Flask\\n* **Ci\\303\\252ncia de dados:** NumPy, Pandas, Scikit-learn\\n* **Intelig\\303\\252ncia artificial:** TensorFlow, Keras\\n* **Automa\\303\\247\\303\\243o:** Selenium, Requests\\n* **An\\303\\241lise de dados:** Matplotlib, Seaborn\\n* **Desenvolvimento de jogos:** PyGame\\n* **Aprendizado de m\\303\\241quina:** scikit-learn, TensorFlow\\n* **Processamento de linguagem natural:** NLTK, spaCy\\n\\n**Vantagens do Python:**\\n\\n* **F\\303\\241cil de aprender:** Python tem uma sintaxe simples e f\\303\\241cil de ler, tornando-o adequado para iniciantes.\\n* **Vers\\303\\241til:** Python pode ser usado para uma ampla gama de aplica\\303\\247\\303\\265es, desde desenvolvimento web at\\303\\251 ci\\303\\252ncia de dados.\\n* **Comunidade grande:** Python tem uma grande comunidade de usu\\303\\241rios e desenvolvedores, fornecendo amplo suporte e recursos.\\n* **Bibliotecas abrangentes:** Python oferece uma vasta cole\\303\\247\\303\\243o de bibliotecas que fornecem funcionalidades para v\\303\\241rias tarefas.\\n* **Port\\303\\241til:** O c\\303\\263digo Python pode ser executado em v\\303\\241rios sistemas operacionais, tornando-o adequado para desenvolvimento multiplataforma.\"\n",
              " }\n",
              " role: \"model\"]"
            ]
          },
          "metadata": {},
          "execution_count": 12
        }
      ],
      "source": [
        "chat.history # Exibe o histórico do chat (opcional)"
      ]
    },
    {
      "cell_type": "code",
      "source": [
        "# --- Formatação visual do histórico do chat ---\n",
        "\n",
        "from IPython.display import HTML\n",
        "import markdown\n",
        "\n",
        "def to_cards(message):\n",
        "  \"\"\"Formata uma mensagem do chat como um cartão visual.\"\"\"\n",
        "  role = message.role\n",
        "  text = message.parts[0].text\n",
        "\n",
        "  # Usando cores para diferentes roles\n",
        "  if role == \"user\":\n",
        "    color = \"#blue\"  # Azul claro\n",
        "    icon = \"👤\"\n",
        "    role = \"Usuário\"\n",
        "  elif role == \"assistant\":\n",
        "    color = \"#c8e6c9\"  # Verde claro\n",
        "    icon = \"🤖\"\n",
        "    role = \"BOT\"\n",
        "  else:\n",
        "    color = \"#1E1E1E\"  # Cinza claro\n",
        "    icon = \"🤖\"\n",
        "    role = \"BOT\"\n",
        "\n",
        "  # Adicionando emojis\n",
        "  if \":)\" in text:\n",
        "    text = text.replace(\":)\", \"😊\")\n",
        "  if \":(\" in text:\n",
        "    text = text.replace(\":(\", \"😔\")\n",
        "\n",
        "  # Formatando com HTML e Markdown\n",
        "  html = f\"\"\"\n",
        "  <div style=\"background-color: {color}; padding: 10px; border-radius: 5px; margin-bottom: 10px;\">\n",
        "      <span style=\"font-size: 1.2em;\">{icon} <b>{role}:</b></span>\n",
        "      <p>{markdown.markdown(text)}</p>\n",
        "  </div>\n",
        "  \"\"\"\n",
        "  # Adiciona o botão \"Copiar\" apenas se a mensagem for do BOT\n",
        "  if role == \"BOT\":\n",
        "      html += f\"\"\"\n",
        "      <button onclick=\"copyToClipboard('{text}')\"\n",
        "              style=\"background-color: transparent;\n",
        "                      border: none;\n",
        "                      cursor: pointer;\n",
        "                      font-size: 0.8em;\n",
        "                      padding: 5px 10px;\n",
        "                      margin-left: 10px;\n",
        "                      border-radius: 3px;\n",
        "                      color: #5f6368;\">\n",
        "          Copiar\n",
        "      </button>\n",
        "      \"\"\"\n",
        "\n",
        "  return HTML(html + \"\"\"\n",
        "  <script>\n",
        "    function copyToClipboard(text) {\n",
        "      navigator.clipboard.writeText(text);\n",
        "      alert(\"Texto copiado para a área de transferência!\");\n",
        "    }\n",
        "  </script>\n",
        "  \"\"\")\n",
        "\n",
        "# Imprimindo o histórico formatado\n",
        "for message in chat.history:\n",
        "  display(to_cards(message))"
      ],
      "metadata": {
        "colab": {
          "base_uri": "https://localhost:8080/",
          "height": 832
        },
        "id": "4cgz8I--4OBF",
        "outputId": "bf397514-f3f2-45db-bfca-f3a4fee5acb1"
      },
      "execution_count": 15,
      "outputs": [
        {
          "output_type": "display_data",
          "data": {
            "text/plain": [
              "<IPython.core.display.HTML object>"
            ],
            "text/html": [
              "\n",
              "  <div style=\"background-color: #blue; padding: 10px; border-radius: 5px; margin-bottom: 10px;\">\n",
              "      <span style=\"font-size: 1.2em;\">👤 <b>Usuário:</b></span>\n",
              "      <p><p>o que é python</p></p>\n",
              "  </div>\n",
              "  \n",
              "  <script>\n",
              "    function copyToClipboard(text) {\n",
              "      navigator.clipboard.writeText(text);\n",
              "      alert(\"Texto copiado para a área de transferência!\");\n",
              "    }\n",
              "  </script>\n",
              "  "
            ]
          },
          "metadata": {}
        },
        {
          "output_type": "display_data",
          "data": {
            "text/plain": [
              "<IPython.core.display.HTML object>"
            ],
            "text/html": [
              "\n",
              "  <div style=\"background-color: #1E1E1E; padding: 10px; border-radius: 5px; margin-bottom: 10px;\">\n",
              "      <span style=\"font-size: 1.2em;\">🤖 <b>BOT:</b></span>\n",
              "      <p><p>Python é uma linguagem de programação de alto nível, interpretada, orientada a objetos e de propósito geral. É conhecida por sua sintaxe simples e fácil de ler, tornando-a uma linguagem popular para iniciantes e experientes.</p>\n",
              "<p><strong>Características principais do Python:</strong></p>\n",
              "<ul>\n",
              "<li><strong>Interpretada:</strong> O código Python é executado linha por linha por um interpretador, em vez de ser compilado em um arquivo executável.</li>\n",
              "<li><strong>Orientada a objetos:</strong> Python suporta programação orientada a objetos, permitindo que você crie classes e objetos para representar dados e comportamento.</li>\n",
              "<li><strong>Tipada dinamicamente:</strong> Python determina o tipo de uma variável durante a execução, em vez de durante a compilação.</li>\n",
              "<li><strong>Multiparadigma:</strong> Python suporta vários paradigmas de programação, incluindo programação orientada a objetos, programação funcional e programação procedural.</li>\n",
              "<li><strong>Extensível:</strong> Python pode ser estendido por meio de módulos e bibliotecas, que fornecem uma ampla gama de funcionalidades.</li>\n",
              "<li><strong>Portátil:</strong> O código Python pode ser executado em vários sistemas operacionais, incluindo Windows, macOS e Linux.</li>\n",
              "</ul>\n",
              "<p><strong>Aplicações do Python:</strong></p>\n",
              "<p>Python é usado em uma ampla gama de aplicações, incluindo:</p>\n",
              "<ul>\n",
              "<li><strong>Desenvolvimento web:</strong> Django, Flask</li>\n",
              "<li><strong>Ciência de dados:</strong> NumPy, Pandas, Scikit-learn</li>\n",
              "<li><strong>Inteligência artificial:</strong> TensorFlow, Keras</li>\n",
              "<li><strong>Automação:</strong> Selenium, Requests</li>\n",
              "<li><strong>Análise de dados:</strong> Matplotlib, Seaborn</li>\n",
              "<li><strong>Desenvolvimento de jogos:</strong> PyGame</li>\n",
              "<li><strong>Aprendizado de máquina:</strong> scikit-learn, TensorFlow</li>\n",
              "<li><strong>Processamento de linguagem natural:</strong> NLTK, spaCy</li>\n",
              "</ul>\n",
              "<p><strong>Vantagens do Python:</strong></p>\n",
              "<ul>\n",
              "<li><strong>Fácil de aprender:</strong> Python tem uma sintaxe simples e fácil de ler, tornando-o adequado para iniciantes.</li>\n",
              "<li><strong>Versátil:</strong> Python pode ser usado para uma ampla gama de aplicações, desde desenvolvimento web até ciência de dados.</li>\n",
              "<li><strong>Comunidade grande:</strong> Python tem uma grande comunidade de usuários e desenvolvedores, fornecendo amplo suporte e recursos.</li>\n",
              "<li><strong>Bibliotecas abrangentes:</strong> Python oferece uma vasta coleção de bibliotecas que fornecem funcionalidades para várias tarefas.</li>\n",
              "<li><strong>Portátil:</strong> O código Python pode ser executado em vários sistemas operacionais, tornando-o adequado para desenvolvimento multiplataforma.</li>\n",
              "</ul></p>\n",
              "  </div>\n",
              "  \n",
              "      <button onclick=\"copyToClipboard('Python é uma linguagem de programação de alto nível, interpretada, orientada a objetos e de propósito geral. É conhecida por sua sintaxe simples e fácil de ler, tornando-a uma linguagem popular para iniciantes e experientes.\n",
              "\n",
              "**Características principais do Python:**\n",
              "\n",
              "* **Interpretada:** O código Python é executado linha por linha por um interpretador, em vez de ser compilado em um arquivo executável.\n",
              "* **Orientada a objetos:** Python suporta programação orientada a objetos, permitindo que você crie classes e objetos para representar dados e comportamento.\n",
              "* **Tipada dinamicamente:** Python determina o tipo de uma variável durante a execução, em vez de durante a compilação.\n",
              "* **Multiparadigma:** Python suporta vários paradigmas de programação, incluindo programação orientada a objetos, programação funcional e programação procedural.\n",
              "* **Extensível:** Python pode ser estendido por meio de módulos e bibliotecas, que fornecem uma ampla gama de funcionalidades.\n",
              "* **Portátil:** O código Python pode ser executado em vários sistemas operacionais, incluindo Windows, macOS e Linux.\n",
              "\n",
              "**Aplicações do Python:**\n",
              "\n",
              "Python é usado em uma ampla gama de aplicações, incluindo:\n",
              "\n",
              "* **Desenvolvimento web:** Django, Flask\n",
              "* **Ciência de dados:** NumPy, Pandas, Scikit-learn\n",
              "* **Inteligência artificial:** TensorFlow, Keras\n",
              "* **Automação:** Selenium, Requests\n",
              "* **Análise de dados:** Matplotlib, Seaborn\n",
              "* **Desenvolvimento de jogos:** PyGame\n",
              "* **Aprendizado de máquina:** scikit-learn, TensorFlow\n",
              "* **Processamento de linguagem natural:** NLTK, spaCy\n",
              "\n",
              "**Vantagens do Python:**\n",
              "\n",
              "* **Fácil de aprender:** Python tem uma sintaxe simples e fácil de ler, tornando-o adequado para iniciantes.\n",
              "* **Versátil:** Python pode ser usado para uma ampla gama de aplicações, desde desenvolvimento web até ciência de dados.\n",
              "* **Comunidade grande:** Python tem uma grande comunidade de usuários e desenvolvedores, fornecendo amplo suporte e recursos.\n",
              "* **Bibliotecas abrangentes:** Python oferece uma vasta coleção de bibliotecas que fornecem funcionalidades para várias tarefas.\n",
              "* **Portátil:** O código Python pode ser executado em vários sistemas operacionais, tornando-o adequado para desenvolvimento multiplataforma.')\"\n",
              "              style=\"background-color: transparent;\n",
              "                      border: none;\n",
              "                      cursor: pointer;\n",
              "                      font-size: 0.8em;\n",
              "                      padding: 5px 10px;\n",
              "                      margin-left: 10px;\n",
              "                      border-radius: 3px;\n",
              "                      color: #5f6368;\">\n",
              "          Copiar\n",
              "      </button>\n",
              "      \n",
              "  <script>\n",
              "    function copyToClipboard(text) {\n",
              "      navigator.clipboard.writeText(text);\n",
              "      alert(\"Texto copiado para a área de transferência!\");\n",
              "    }\n",
              "  </script>\n",
              "  "
            ]
          },
          "metadata": {}
        }
      ]
    },
    {
      "cell_type": "code",
      "source": [],
      "metadata": {
        "id": "zJbuvOQbqEUz"
      },
      "execution_count": null,
      "outputs": []
    }
  ]
}